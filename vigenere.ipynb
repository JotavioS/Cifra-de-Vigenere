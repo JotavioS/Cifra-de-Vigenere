{
  "nbformat": 4,
  "nbformat_minor": 0,
  "metadata": {
    "colab": {
      "provenance": [],
      "authorship_tag": "ABX9TyPcgnXZpmKWLpwI5xLDMG0w",
      "include_colab_link": true
    },
    "kernelspec": {
      "name": "python3",
      "display_name": "Python 3"
    },
    "language_info": {
      "name": "python"
    }
  },
  "cells": [
    {
      "cell_type": "markdown",
      "metadata": {
        "id": "view-in-github",
        "colab_type": "text"
      },
      "source": [
        "<a href=\"https://colab.research.google.com/github/JotavioS/Cifra-de-Vigenere/blob/main/vigenere.ipynb\" target=\"_parent\"><img src=\"https://colab.research.google.com/assets/colab-badge.svg\" alt=\"Open In Colab\"/></a>"
      ]
    },
    {
      "cell_type": "markdown",
      "source": [
        "Implemente uma cifra de substituição (semelhante à Cifra de Vigènere vista em sala) que tenha como alfabeto (nesta exata ordem):\n",
        "\n",
        "*   os caracteres de 'a' até 'z'\n",
        "*   os caracteres de 'A' até 'Z'\n",
        "*   os números de '0' a '9'\n",
        "*   espaço em branco ' '\n",
        "*   vírgula ','\n",
        "*   ponto e vírgula ';'\n",
        "*   ponto '.'\n",
        "*   underscore '_'\n",
        "*   hashtag '#'\n",
        "*   asterisco '*'\n",
        "*   aspas '\"'\n",
        "*   hífen '-'\n",
        "*   soma '+'\n",
        "\n",
        "Outros requisitos:\n",
        "\n",
        "*   A cifra deverá validar se os caracteres recebidos são válidos e lançar um erro caso algum caractere não seja válido dentro alfabeto especificado acima.\n",
        "*   A cifra deverá ter a função de cifrar e decifrar.\n",
        "*   Pode ser implementado em qualquer linguagem de sua preferência, mas ser fornecido o link ou acesso à uma plataforma online onde seja possível apenas abrir e executar o código.\n",
        "*   O código também deverá ser salvo em um repositório público no github.\n",
        "*   A resposta dessa atividade deverá conter 2 links: o link do repositório no Github e o link da plataforma online para executar o código.\n",
        "*   Esta atividade vale 1 ponto da nota da Unidade 1.\n",
        "*   As outras regras ditas em sala também serão aplicadas."
      ],
      "metadata": {
        "id": "NvBB1tazfbD1"
      }
    },
    {
      "cell_type": "code",
      "source": [
        "az = 'abcdefghijklmnopqrstuvwxyz'"
      ],
      "metadata": {
        "id": "1qhNT9bYY_sy"
      },
      "execution_count": 21,
      "outputs": []
    },
    {
      "cell_type": "code",
      "source": [
        "AZ = 'ABCDEFGHIJKLMNOPQRSTUVWXYZ'"
      ],
      "metadata": {
        "id": "QNe_jz_LYIRy"
      },
      "execution_count": 22,
      "outputs": []
    },
    {
      "cell_type": "code",
      "source": [
        "numeros = '0123456789'"
      ],
      "metadata": {
        "id": "1kuoP2ZnZEu0"
      },
      "execution_count": 23,
      "outputs": []
    },
    {
      "cell_type": "code",
      "source": [
        "espaco = ' '"
      ],
      "metadata": {
        "id": "NCw0vN4reJiC"
      },
      "execution_count": 24,
      "outputs": []
    },
    {
      "cell_type": "code",
      "source": [
        "pontoVirgula = ';'"
      ],
      "metadata": {
        "id": "SVWszPDeeW-B"
      },
      "execution_count": 26,
      "outputs": []
    },
    {
      "cell_type": "code",
      "source": [
        "ponto = '.'"
      ],
      "metadata": {
        "id": "Fl6_4sDUe7Be"
      },
      "execution_count": 27,
      "outputs": []
    },
    {
      "cell_type": "code",
      "source": [
        "underscore = '_'"
      ],
      "metadata": {
        "id": "ZvNBrnkIhTRS"
      },
      "execution_count": 28,
      "outputs": []
    },
    {
      "cell_type": "code",
      "source": [
        "hashtag = '#'"
      ],
      "metadata": {
        "id": "3ZYR8EjNhWkh"
      },
      "execution_count": 29,
      "outputs": []
    },
    {
      "cell_type": "code",
      "source": [
        "asterisco = '*'"
      ],
      "metadata": {
        "id": "IEvnXh4ohd93"
      },
      "execution_count": 30,
      "outputs": []
    },
    {
      "cell_type": "code",
      "source": [
        "aspas = '\"'"
      ],
      "metadata": {
        "id": "dQJzaXgjhihT"
      },
      "execution_count": 31,
      "outputs": []
    },
    {
      "cell_type": "code",
      "source": [
        "hifen = '-'"
      ],
      "metadata": {
        "id": "uNeyoBpWh01f"
      },
      "execution_count": 32,
      "outputs": []
    },
    {
      "cell_type": "code",
      "source": [
        "soma = '+'"
      ],
      "metadata": {
        "id": "SH4rbLzRh5_y"
      },
      "execution_count": 33,
      "outputs": []
    },
    {
      "cell_type": "code",
      "source": [
        "alphabet = az + AZ + numeros + espaco + pontoVirgula + ponto + underscore + hashtag + asterisco + aspas + hifen + soma"
      ],
      "metadata": {
        "id": "qx160x5yiEB8"
      },
      "execution_count": 53,
      "outputs": []
    },
    {
      "cell_type": "code",
      "source": [
        "class Vigenere:\n",
        "\tdef __init__(self, a = \"ABCDEFGHIJKLMNOPQRSTUVWXYZ\"):\n",
        "\t\t\"\"\"Inicia a classe com alfabeto default ou personalizado\"\"\"\n",
        "\t\tself.alphabet = a\n",
        "\t\tself.size = len(a)\n",
        "\t\tself.char_to_index = {char: idx for idx, char in enumerate(a)}\n",
        "\n",
        "\tdef extend_key(self, key, text_length):\n",
        "\t\t\"\"\"expade os caractereres da chave ate o tamanho do texto\"\"\"\n",
        "\t\treturn (key * (text_length // len(key) + 1))[:text_length]\n",
        "\n",
        "\tdef encrypt(self, plaintext, key):\n",
        "\t\tif not key or not all(c in self.alphabet for c in key):\n",
        "\t\t\traise ValueError(\"Chave Inválida\")\n",
        "\t\tif not all(c in self.alphabet for c in plaintext):\n",
        "\t\t\traise ValueError(\"O texto contém caracteres fora do alfabeto\")\n",
        "\n",
        "\t\textended_key = self.extend_key(key, len(plaintext))\n",
        "\t\tciphertext = []\n",
        "\n",
        "\t\tfor p, k in zip(plaintext, extended_key):\n",
        "\t\t\tp_index = self.char_to_index[p]\n",
        "\t\t\tk_index = self.char_to_index[k]\n",
        "\t\t\tc_index = (p_index + k_index) % self.size\n",
        "\t\t\tciphertext.append(self.alphabet[c_index])\n",
        "\n",
        "\t\treturn ''.join(ciphertext)\n",
        "\n",
        "\tdef decrypt(self, ciphertext, key):\n",
        "\t\tif not key or not all(c in self.alphabet for c in key):\n",
        "\t\t\traise ValueError(\"Chave Inválida\")\n",
        "\t\tif not all(c in self.alphabet for c in ciphertext):\n",
        "\t\t\traise ValueError(\"O texto contém caracteres fora do alfabeto\")\n",
        "\n",
        "\t\textended_key = self.extend_key(key, len(ciphertext))\n",
        "\t\tplaintext = []\n",
        "\n",
        "\t\tfor c, k in zip(ciphertext, extended_key):\n",
        "\t\t\tc_index = self.char_to_index[c]\n",
        "\t\t\tk_index = self.char_to_index[k]\n",
        "\t\t\tp_index = (c_index - k_index) % self.size\n",
        "\t\t\tplaintext.append(self.alphabet[p_index])\n",
        "\n",
        "\t\treturn ''.join(plaintext)"
      ],
      "metadata": {
        "id": "msvo532PkoWM"
      },
      "execution_count": 103,
      "outputs": []
    },
    {
      "cell_type": "code",
      "source": [
        "def tests():\n",
        "\t# Teste Default\n",
        "\tcipher = Vigenere()\n",
        "\tassert cipher.encrypt(\"ATAQUE\", \"CHAVE\") == \"CAALYG\", \"Falha na encriptação padrão\"\n",
        "\tassert cipher.decrypt(\"CAALYG\", \"CHAVE\") == \"ATAQUE\", \"Falha na decriptação padrão\"\n",
        "\n",
        "\t# Teste Alfabeto Custom\n",
        "\tcipherCustom = Vigenere(alphabet)\n",
        "\tassert cipherCustom.encrypt(\"TESTE123\", \"IFPE\") == \"i9oe.nyo\", \"Falha na encriptação Custom\"\n",
        "\tassert cipherCustom.decrypt(\"i9oe.nyo\", \"IFPE\") == \"TESTE123\", \"Falha na decriptação Custom\"\n",
        "\n",
        "\t# Teste Chave Invalida Encrypt\n",
        "\ttry:\n",
        "\t\tcipher.encrypt(\"ATAQUE\", \"CH@VE\")\n",
        "\t\traise ValueError(\"Deveria ter gerado excessão de Chave Invalida\")\n",
        "\texcept ValueError as ve:\n",
        "\t\tassert str(ve) == \"Chave Inválida\", ve\n",
        "\t\tpass\n",
        "\n",
        "\t# Teste PlainText Invalida Encrypt\n",
        "\ttry:\n",
        "\t\tcipher.encrypt(\"ATAQUE!\", \"CHAVE\")\n",
        "\t\traise ValueError(\"Deveria ter gerado excessão de PlainText Invalida\")\n",
        "\texcept ValueError as ve:\n",
        "\t\tassert str(ve) == \"O texto contém caracteres fora do alfabeto\", ve\n",
        "\t\tpass\n",
        "\n",
        "\t# Teste Chave Invalida Decrypt\n",
        "\ttry:\n",
        "\t\tcipher.decrypt(\"CAALYG\", \"CH@VE\")\n",
        "\t\traise ValueError(\"Deveria ter gerado excessão de Chave Invalida\")\n",
        "\texcept ValueError as ve:\n",
        "\t\tassert str(ve) == \"Chave Inválida\", ve\n",
        "\t\tpass\n",
        "\n",
        "\t# Teste Ciphertext Invalida Decrypt\n",
        "\ttry:\n",
        "\t\tcipher.decrypt(\"CAALYG!\", \"CHAVE\")\n",
        "\t\traise ValueError(\"Deveria ter gerado excessão de Ciphertext Invalida\")\n",
        "\texcept ValueError as ve:\n",
        "\t\tassert str(ve) == \"O texto contém caracteres fora do alfabeto\", ve\n",
        "\t\tpass\n",
        "\n",
        "\t# Teste PlainText em Branco\n",
        "\tcipher = Vigenere(alphabet)\n",
        "\tassert cipher.encrypt(\"\", \"CHAVE\") == \"\", \"Falha no encrypt do texto em branco \"\n",
        "\tassert cipher.decrypt(\"\", \"CHAVE\") == \"\", \"Falha no decrypt do texto em branco\"\n",
        "\n",
        "\tprint(\"Casos de Testes executados com sucesso\")"
      ],
      "metadata": {
        "id": "XtaRTnK9p4l8"
      },
      "execution_count": 118,
      "outputs": []
    },
    {
      "cell_type": "code",
      "source": [
        "tests()"
      ],
      "metadata": {
        "colab": {
          "base_uri": "https://localhost:8080/"
        },
        "id": "nVGRONM6rWSK",
        "outputId": "2262b968-52e8-4eb4-f20b-24d47e13997e"
      },
      "execution_count": 119,
      "outputs": [
        {
          "output_type": "stream",
          "name": "stdout",
          "text": [
            "Casos de Testes executados com sucesso\n"
          ]
        }
      ]
    }
  ]
}